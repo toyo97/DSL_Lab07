{
 "cells": [
  {
   "cell_type": "markdown",
   "metadata": {
    "collapsed": true,
    "pycharm": {
     "name": "#%% md\n"
    }
   },
   "source": [
    "# Free Spoken Digit Dataset"
   ]
  },
  {
   "cell_type": "code",
   "execution_count": 1,
   "outputs": [],
   "source": [
    "import os\n",
    "\n",
    "data_path = os.path.abspath('') + '/data'\n",
    "dev_data_path = data_path + '/dev'"
   ],
   "metadata": {
    "collapsed": false,
    "pycharm": {
     "name": "#%%\n",
     "is_executing": false
    }
   }
  },
  {
   "cell_type": "code",
   "execution_count": 2,
   "outputs": [
    {
     "name": "stdout",
     "text": [
      "1500\n['4', '2', '4', '4', '5', '8', '4', '8', '0', '3']\n"
     ],
     "output_type": "stream"
    }
   ],
   "source": [
    "from scipy.io import wavfile\n",
    "\n",
    "data = []\n",
    "fs = 8e3\n",
    "y = []\n",
    "\n",
    "for file_name in os.listdir(dev_data_path):\n",
    "    data.append(wavfile.read(os.path.join(dev_data_path,file_name))[1])\n",
    "    y.append(file_name.split('.')[0].split('_')[1])\n",
    "    \n",
    "print(len(data))\n",
    "print(y[:10])"
   ],
   "metadata": {
    "collapsed": false,
    "pycharm": {
     "name": "#%%\n",
     "is_executing": false
    }
   }
  },
  {
   "cell_type": "code",
   "execution_count": 3,
   "outputs": [
    {
     "data": {
      "text/plain": "<Figure size 640x480 with 1 Axes>"
     },
     "metadata": {},
     "output_type": "display_data"
    },
    {
     "data": {
      "text/plain": "<Figure size 640x480 with 1 Axes>"
     },
     "metadata": {},
     "output_type": "display_data"
    }
   ],
   "source": [
    "from spafe.features.gfcc import gfcc\n",
    "from spafe.utils import vis\n",
    "\n",
    "sig = data[5]\n",
    "gfccs = gfcc(sig, fs=fs, num_ceps=13)\n",
    "\n",
    "vis.spectogram(sig, fs)\n",
    "vis.visualize_features(gfccs, 'GFCC Index', 'Frame Index')"
   ],
   "metadata": {
    "collapsed": false,
    "pycharm": {
     "name": "#%%\n",
     "is_executing": false
    }
   }
  },
  {
   "cell_type": "code",
   "execution_count": 4,
   "outputs": [
    {
     "data": {
      "text/plain": "array([[ 4.62033222e-01, -3.15646855e-01, -1.46229755e+00,\n         1.02095503e+00,  4.91497342e-01, -3.85737351e-01,\n        -1.38251402e+00,  9.22835402e-01,  1.03268880e+00,\n        -1.51822321e+00,  5.53902029e-01,  2.05876372e-01,\n         6.41753597e-01],\n       [ 8.84884165e-01, -7.81698910e-01, -1.85999809e+00,\n         7.26476104e-01,  1.21965146e+00, -9.58155916e-01,\n        -1.80094879e+00,  1.28420801e+00,  1.50462393e+00,\n        -2.37120083e+00,  5.46632840e-01,  1.07754896e+00,\n         8.77267573e-01],\n       [ 1.17103549e+00, -1.25070406e+00, -1.77420252e+00,\n         4.41720947e-01,  9.58965430e-01, -7.16754060e-01,\n        -2.03821062e+00,  1.17395067e+00,  1.61666512e+00,\n        -2.55559161e+00,  1.33995551e+00,  7.31018611e-01,\n         9.94256046e-01],\n       [ 1.32436748e+00, -1.35670205e+00, -1.73468391e+00,\n         1.24027934e-01,  1.02497512e+00, -6.54197527e-01,\n        -2.09106934e+00,  1.14911842e+00,  1.65280930e+00,\n        -2.52506874e+00,  1.16787531e+00,  5.29895894e-01,\n         1.27861596e+00],\n       [ 1.37589459e+00, -1.53888641e+00, -1.55343320e+00,\n        -1.73533758e-01,  1.01443567e+00, -2.03707960e-01,\n        -2.58485543e+00,  1.58767325e+00,  1.21590144e+00,\n        -2.14582974e+00,  8.29495391e-01,  5.75144368e-01,\n         1.35253181e+00],\n       [ 1.37089642e+00, -1.55530510e+00, -1.61867630e+00,\n        -2.43396473e-01,  1.21918194e+00, -1.46523199e-01,\n        -2.51183371e+00,  1.16617958e+00,  1.56468621e+00,\n        -1.70262773e+00, -7.14711294e-02,  6.91412634e-01,\n         1.64946580e+00],\n       [ 1.36943155e+00, -1.63807811e+00, -1.39358322e+00,\n        -4.49594433e-01,  1.23236100e+00,  2.84960712e-01,\n        -2.78200813e+00,  1.06182451e+00,  1.75256839e+00,\n        -7.70104481e-01, -7.80527005e-01,  2.40538413e-01,\n         1.70358401e+00],\n       [ 1.34889994e+00, -1.61467948e+00, -1.23335489e+00,\n        -8.88750480e-01,  1.57458735e+00,  1.39693946e-01,\n        -2.79104596e+00,  1.22179694e+00,  1.73760782e+00,\n        -4.94575228e-01, -1.01703984e+00, -4.69546196e-02,\n         1.71139539e+00],\n       [ 1.25137144e+00, -1.45733413e+00, -1.16928350e+00,\n        -9.99072326e-01,  1.41357588e+00,  3.03802522e-01,\n        -3.14062906e+00,  1.95592367e+00,  1.16911506e+00,\n         3.45939804e-01, -1.95288559e+00,  2.74090867e-02,\n         1.67839602e+00],\n       [ 1.08752230e+00, -1.19850786e+00, -1.05700038e+00,\n        -1.01378732e+00,  1.12209108e+00,  5.83979490e-01,\n        -2.43845110e+00,  1.12120561e+00,  1.21069960e+00,\n         5.29874688e-01, -1.69916473e+00, -1.90013923e-01,\n         1.05478379e+00],\n       [ 8.69549336e-01, -7.85900644e-01, -7.22663594e-01,\n        -1.36424965e+00,  1.00688330e+00,  6.31406591e-01,\n        -2.03390399e+00,  8.97121648e-01,  4.74420796e-01,\n         1.62882566e+00, -1.73736977e+00, -5.25517799e-01,\n         2.84696751e-01],\n       [ 6.88012599e-01, -5.40777952e-01, -5.11480785e-01,\n        -1.51626549e+00,  5.66746971e-01,  7.69542497e-01,\n        -8.33989637e-01,  1.65298274e-01, -2.23544304e-01,\n         1.92278439e+00, -6.41849111e-01, -1.01345494e+00,\n        -8.86011499e-01],\n       [ 4.80382895e-01, -9.50767612e-02, -6.04708598e-01,\n        -1.77306374e+00,  5.81660268e-01,  1.31619010e+00,\n        -7.01052874e-01, -5.38816051e-01, -2.87524331e-01,\n         2.30435528e+00, -5.04303275e-01, -1.31919562e+00,\n        -4.45362956e-01],\n       [ 3.27751275e-01,  1.96790127e-01, -4.81490739e-01,\n        -2.12751364e+00,  5.57288701e-01,  1.23858387e+00,\n        -2.07696268e-01, -1.01039460e+00, -5.64476361e-01,\n         2.61397529e+00, -2.45698688e-01, -8.15059741e-01,\n        -1.13843175e+00],\n       [ 2.32605426e-01,  2.48374349e-01, -3.09581559e-01,\n        -1.89624456e+00,  7.60687771e-02,  1.22232440e+00,\n         6.41646184e-02, -7.13744993e-01, -5.64329029e-01,\n         2.47884001e+00, -4.98948403e-01, -6.93695646e-01,\n        -1.06563254e+00],\n       [-6.60461197e-02,  9.46568315e-01, -5.32730924e-01,\n        -1.70866155e+00, -5.63411558e-01,  1.24139177e+00,\n         1.22366930e+00, -9.32498594e-01, -7.04174515e-01,\n         1.09928113e+00,  1.97389597e-01,  1.46281743e-01,\n        -7.81815793e-01],\n       [-1.39856521e-01,  1.00946617e+00, -2.89436340e-01,\n        -1.60266174e+00, -9.55678024e-01,  1.03802027e+00,\n         1.75331779e+00, -4.11952616e-01, -1.39329165e+00,\n         5.07151412e-01,  7.79501625e-01,  4.65318490e-01,\n        -1.09871188e+00],\n       [-1.91105129e-01,  1.04646880e+00, -3.29647149e-02,\n        -1.60576262e+00, -1.18105218e+00,  9.75343459e-01,\n         1.84125383e+00, -3.07720533e-01, -1.28594472e+00,\n         6.09417266e-01,  5.29003602e-01,  3.22846321e-01,\n        -1.12086158e+00],\n       [-2.97132447e-01,  1.02407142e+00,  2.75167316e-01,\n        -1.41054966e+00, -1.44142013e+00,  4.19238405e-01,\n         2.00991493e+00, -2.91006436e-02, -1.07910748e+00,\n         2.20425326e-01,  4.27319221e-01,  2.04232221e-01,\n        -6.02409343e-01],\n       [-3.83306150e-01,  1.09316618e+00,  2.93665874e-01,\n        -9.46024062e-01, -1.66163390e+00,  1.59764909e-01,\n         2.12743416e+00, -1.67774284e-01, -6.91561580e-01,\n         4.78884882e-02,  2.75841297e-01,  5.76831250e-02,\n        -4.37004125e-01],\n       [-4.58119590e-01,  9.48672662e-01,  5.20958097e-01,\n        -6.70889977e-01, -1.49109421e+00, -7.02885981e-02,\n         2.01878977e+00, -2.08523677e-01, -2.28634768e-01,\n        -2.09401980e-01,  8.67137932e-02, -3.70308638e-02,\n        -1.11446379e-01],\n       [-5.40238157e-01,  7.45338736e-01,  7.79022792e-01,\n        -2.62103086e-01, -1.40694199e+00, -1.85030716e-01,\n         1.69788917e+00, -1.83603328e-03, -2.75311889e-01,\n        -1.27886061e-01, -5.25830379e-02,  5.10878046e-03,\n        -2.31060947e-01],\n       [-6.78493214e-01,  5.75441838e-01,  9.65934452e-01,\n         3.84269551e-01, -7.36855141e-01, -6.37551331e-01,\n         1.21119050e+00, -2.45696680e-01, -3.04350164e-01,\n        -6.64988751e-02,  3.82886217e-01,  3.12836649e-01,\n        -7.00370405e-01],\n       [-6.09912757e-01,  4.62948955e-01,  1.13629865e+00,\n         6.90207224e-01, -9.12926371e-01, -9.42937254e-01,\n         1.05429501e+00, -4.82721059e-01, -1.22337366e-01,\n         2.06041045e-01,  3.26044369e-01,  2.21969427e-01,\n        -5.76736987e-01],\n       [-7.51435744e-01,  6.15292714e-01,  1.05927469e+00,\n         7.58950787e-01, -5.91562565e-01, -5.84801977e-01,\n         1.06231962e+00, -8.28470869e-01, -1.16330289e-01,\n         1.53479999e-01,  3.01890541e-01, -1.59226348e-01,\n        -2.70805160e-01],\n       [-8.06891676e-01,  5.76258945e-01,  1.09069253e+00,\n         8.06979109e-01, -3.92722664e-01, -6.23846878e-01,\n         9.50968462e-01, -6.33394727e-01, -4.69029600e-01,\n         4.36796826e-01,  6.53311838e-01, -2.14972036e-01,\n        -7.06602596e-01],\n       [-7.13598933e-01,  4.65389448e-01,  1.01878549e+00,\n         1.02764176e+00, -4.87956833e-01, -4.65417440e-01,\n         1.31313312e+00, -4.74275088e-01, -8.77842298e-01,\n        -3.45301226e-01,  5.66817761e-01,  1.36522787e-01,\n        -3.54853373e-01],\n       [-7.56556280e-01,  4.01264813e-01,  9.83077672e-01,\n         1.05159034e+00, -2.56761794e-01, -3.93661981e-01,\n         1.12166490e+00, -4.06258405e-01, -5.77259295e-01,\n         1.42597830e-02,  2.48507684e-01, -2.32245801e-01,\n        -5.36081888e-01],\n       [-7.58787500e-01,  4.94980496e-01,  1.10079250e+00,\n         9.60518284e-01, -2.57942153e-01, -4.27790123e-01,\n         1.06199669e+00, -9.71221944e-01, -3.78717666e-01,\n         2.91465443e-01,  2.36746880e-01, -2.41559751e-01,\n        -1.95774214e-01],\n       [-7.69743522e-01,  4.18032971e-01,  1.14724183e+00,\n         8.28779163e-01, -4.00430883e-01, -4.44504042e-01,\n         9.26820798e-01, -6.78788703e-01, -5.26389873e-01,\n         3.22633658e-01,  3.83157171e-01,  3.05615802e-02,\n        -3.06692066e-01],\n       [-7.34570917e-01,  2.98497856e-01,  1.02041600e+00,\n         1.01528282e+00, -1.37014123e-01, -1.67637543e-01,\n         4.38223616e-01, -5.58460332e-01, -2.37239277e-01,\n         1.33525333e-01,  4.51437761e-02, -1.46375213e-01,\n        -1.83165025e-01],\n       [-6.21364226e-01,  8.25391190e-02,  1.12285470e+00,\n         1.13146343e+00, -6.42203816e-01,  1.66673270e-01,\n         1.25626581e+00, -9.71463710e-01, -3.99558316e-01,\n        -8.21005275e-02, -2.03873829e-01, -9.78849416e-02,\n        -6.11394183e-01],\n       [-5.74090256e-01, -6.56739076e-02,  8.53909829e-01,\n         1.97514203e+00, -1.67939483e-01, -1.19089006e+00,\n         1.19974213e+00, -2.15671455e-01, -4.00026101e-01,\n        -4.06066998e-01, -9.94600799e-02, -3.25375442e-01,\n         7.28352500e-02],\n       [-9.92632980e-01,  5.79664106e-01,  1.09468650e+00,\n         1.91215167e+00, -9.96459437e-02, -8.13747913e-01,\n         1.03419051e+00, -4.87810491e-01, -7.04189959e-01,\n        -2.04094532e-01, -6.46152709e-02, -1.47350173e-01,\n        -4.55010113e-02],\n       [-1.13045539e+00,  6.39447184e-01,  1.29526740e+00,\n         1.93515867e+00, -9.37543930e-02, -1.57566362e-01,\n         6.50675478e-01, -8.14952226e-01, -8.25843601e-01,\n        -9.43984946e-02, -9.58005619e-02,  7.03486842e-02,\n        -2.96637118e-01],\n       [-1.16050515e+00,  6.95313217e-01,  1.30095761e+00,\n         1.94481731e+00, -9.77823189e-02, -1.53057386e-01,\n         6.46704508e-01, -8.23850640e-01, -8.47304932e-01,\n        -1.12175156e-01, -1.05684255e-01,  6.48401669e-02,\n        -3.09318779e-01],\n       [-1.10979547e+00,  6.30983802e-01,  1.28256689e+00,\n         1.91599240e+00, -8.32398170e-02, -1.67110607e-01,\n         6.73584194e-01, -7.91737625e-01, -8.47467113e-01,\n        -1.35815413e-01, -1.06861878e-01,  8.85185379e-02,\n        -2.86900406e-01]])"
     },
     "metadata": {},
     "output_type": "execute_result",
     "execution_count": 4
    }
   ],
   "source": [
    "gfccs"
   ],
   "metadata": {
    "collapsed": false,
    "pycharm": {
     "name": "#%%\n",
     "is_executing": false
    }
   }
  },
  {
   "cell_type": "code",
   "execution_count": 5,
   "outputs": [
    {
     "name": "stdout",
     "text": [
      "length interval: 17567, 1148\n"
     ],
     "output_type": "stream"
    }
   ],
   "source": [
    "import numpy as np\n",
    "lengths = list(map(lambda x: x.size, data))\n",
    "print(f'length interval: {max(lengths)}, {min(lengths)}')"
   ],
   "metadata": {
    "collapsed": false,
    "pycharm": {
     "name": "#%%\n",
     "is_executing": false
    }
   }
  },
  {
   "cell_type": "code",
   "execution_count": 6,
   "outputs": [
    {
     "data": {
      "text/plain": "array([[  -5.,  -10.,   -9., ...,    0.,    0.,    0.],\n       [   0., -256.,    0., ...,    0.,    0.,    0.],\n       [   7.,    6.,    6., ...,    0.,    0.,    0.],\n       ...,\n       [  -6.,   -1.,    0., ...,    0.,    0.,    0.],\n       [  10.,   -9.,   -2., ...,    0.,    0.,    0.],\n       [   4.,    3.,    2., ...,    0.,    0.,    0.]])"
     },
     "metadata": {},
     "output_type": "execute_result",
     "execution_count": 6
    }
   ],
   "source": [
    "from audio_preprocessing import pad_to_dense\n",
    "X = pad_to_dense(data)\n",
    "\n",
    "X"
   ],
   "metadata": {
    "collapsed": false,
    "pycharm": {
     "name": "#%%\n",
     "is_executing": false
    }
   }
  },
  {
   "cell_type": "code",
   "execution_count": 7,
   "outputs": [],
   "source": [
    "# Normalization between 0 and 1\n",
    "\n",
    "X /= np.max(np.abs(X), axis=1)[:, np.newaxis]"
   ],
   "metadata": {
    "collapsed": false,
    "pycharm": {
     "name": "#%%\n",
     "is_executing": false
    }
   }
  },
  {
   "cell_type": "code",
   "execution_count": 8,
   "outputs": [
    {
     "data": {
      "text/plain": "<Figure size 432x288 with 1 Axes>",
      "image/png": "[encoded data removed]"
     },
     "metadata": {
      "needs_background": "light"
     },
     "output_type": "display_data"
    }
   ],
   "source": [
    "import matplotlib.pyplot as plt\n",
    "\n",
    "fig,ax = plt.subplots()\n",
    "ax.plot(np.arange(X[2].size), X[2])\n",
    "plt.show()\n",
    "\n"
   ],
   "metadata": {
    "collapsed": false,
    "pycharm": {
     "name": "#%%\n",
     "is_executing": false
    }
   }
  },
  {
   "cell_type": "code",
   "execution_count": 9,
   "outputs": [],
   "source": [
    "# cut files longer than T = 8000 (since sampling is at 8kHz)\n",
    "# shorter files are 0 padded\n",
    "T = 2 ** 13\n",
    "\n",
    "X = X[:, :T]"
   ],
   "metadata": {
    "collapsed": false,
    "pycharm": {
     "name": "#%%\n",
     "is_executing": false
    }
   }
  },
  {
   "cell_type": "code",
   "execution_count": 10,
   "outputs": [
    {
     "name": "stderr",
     "text": [
      "/home/toyo/Programs/anaconda3/lib/python3.7/site-packages/matplotlib/axes/_axes.py:7739: RuntimeWarning: divide by zero encountered in log10\n  Z = 10. * np.log10(spec)\n"
     ],
     "output_type": "stream"
    },
    {
     "data": {
      "text/plain": "<Figure size 432x288 with 1 Axes>",
      "image/png": "[encoded data removed]"
     },
     "metadata": {
      "needs_background": "light"
     },
     "output_type": "display_data"
    },
    {
     "data": {
      "text/plain": "<Figure size 432x288 with 1 Axes>",
      "image/png": "[encoded data removed]"
     },
     "metadata": {
      "needs_background": "light"
     },
     "output_type": "display_data"
    }
   ],
   "source": [
    "num_ceps = 13\n",
    "\n",
    "sig = X[5]\n",
    "gfccs = gfcc(sig, fs=fs, num_ceps=num_ceps)\n",
    "\n",
    "vis.spectogram(sig, fs)\n",
    "vis.visualize_features(gfccs, 'GFCC Index', 'Frame Index')"
   ],
   "metadata": {
    "collapsed": false,
    "pycharm": {
     "name": "#%%\n",
     "is_executing": false
    }
   }
  },
  {
   "cell_type": "code",
   "execution_count": 11,
   "outputs": [],
   "source": [
    "X_train = np.zeros((X.shape[0], gfccs.size))\n",
    "\n",
    "for i in range(X.shape[0]):\n",
    "    X_train[i, :] = gfcc(X[i, :], fs=fs, num_ceps=num_ceps).flatten()"
   ],
   "metadata": {
    "collapsed": false,
    "pycharm": {
     "name": "#%%\n",
     "is_executing": false
    }
   }
  },
  {
   "cell_type": "code",
   "execution_count": 12,
   "outputs": [
    {
     "data": {
      "text/plain": "(1500, 1300)"
     },
     "metadata": {},
     "output_type": "execute_result",
     "execution_count": 12
    }
   ],
   "source": [
    "X_train.shape"
   ],
   "metadata": {
    "collapsed": false,
    "pycharm": {
     "name": "#%%\n",
     "is_executing": false
    }
   }
  },
  {
   "cell_type": "markdown",
   "source": [
    "## Model training\n",
    "Let's try with k-Nearest Neighbors algorithm"
   ],
   "metadata": {
    "collapsed": false,
    "pycharm": {
     "name": "#%% md\n"
    }
   }
  },
  {
   "cell_type": "code",
   "execution_count": 17,
   "outputs": [],
   "source": [
    "from sklearn import neighbors\n",
    "\n",
    "knn = neighbors.KNeighborsClassifier(n_neighbors=5, weights='distance', metric='manhattan')"
   ],
   "metadata": {
    "collapsed": false,
    "pycharm": {
     "name": "#%%\n",
     "is_executing": false
    }
   }
  },
  {
   "cell_type": "code",
   "execution_count": 18,
   "outputs": [],
   "source": [
    "from sklearn.decomposition import TruncatedSVD\n",
    "\n",
    "svd = TruncatedSVD(n_components=100)"
   ],
   "metadata": {
    "collapsed": false,
    "pycharm": {
     "name": "#%%\n",
     "is_executing": false
    }
   }
  },
  {
   "cell_type": "code",
   "execution_count": 19,
   "outputs": [
    {
     "data": {
      "text/plain": "Pipeline(memory=None,\n         steps=[('truncatedsvd',\n                 TruncatedSVD(algorithm='randomized', n_components=100,\n                              n_iter=5, random_state=None, tol=0.0)),\n                ('kneighborsclassifier',\n                 KNeighborsClassifier(algorithm='auto', leaf_size=30,\n                                      metric='manhattan', metric_params=None,\n                                      n_jobs=None, n_neighbors=5, p=2,\n                                      weights='distance'))],\n         verbose=False)"
     },
     "metadata": {},
     "output_type": "execute_result",
     "execution_count": 19
    }
   ],
   "source": [
    "from sklearn.pipeline import make_pipeline\n",
    "\n",
    "pl = make_pipeline(svd, knn)\n",
    "pl.fit(X_train, y)\n"
   ],
   "metadata": {
    "collapsed": false,
    "pycharm": {
     "name": "#%%\n",
     "is_executing": false
    }
   }
  },
  {
   "cell_type": "code",
   "execution_count": 22,
   "outputs": [
    {
     "data": {
      "text/plain": "[<matplotlib.lines.Line2D at 0x7ff910586a10>]"
     },
     "metadata": {},
     "output_type": "execute_result",
     "execution_count": 22
    },
    {
     "data": {
      "text/plain": "<Figure size 432x288 with 1 Axes>",
      "image/png": "[encoded data removed]"
     },
     "metadata": {
      "needs_background": "light"
     },
     "output_type": "display_data"
    }
   ],
   "source": [
    "plt.plot(svd.explained_variance_ratio_)"
   ],
   "metadata": {
    "collapsed": false,
    "pycharm": {
     "name": "#%%\n",
     "is_executing": false
    }
   }
  },
  {
   "cell_type": "markdown",
   "source": [
    "## Test set prediction"
   ],
   "metadata": {
    "collapsed": false,
    "pycharm": {
     "name": "#%% md\n"
    }
   }
  },
  {
   "cell_type": "code",
   "execution_count": 16,
   "outputs": [],
   "source": [
    "eval_data_path = data_path + '/eval'\n",
    "\n",
    "indices = []\n",
    "test_data = []\n",
    "\n",
    "for file_name in os.listdir(eval_data_path):\n",
    "    indices.append(file_name.split('.')[0])\n",
    "    test_data.append(wavfile.read(os.path.join(eval_data_path, file_name))[1])"
   ],
   "metadata": {
    "collapsed": false,
    "pycharm": {
     "name": "#%%\n",
     "is_executing": false
    }
   }
  },
  {
   "cell_type": "code",
   "execution_count": 17,
   "outputs": [
    {
     "name": "stdout",
     "text": [
      "gfcc size: 1300\nShape of X (500, 1300)\n"
     ],
     "output_type": "stream"
    }
   ],
   "source": [
    "from audio_preprocessing import transform\n",
    "\n",
    "X_test = transform(test_data)"
   ],
   "metadata": {
    "collapsed": false,
    "pycharm": {
     "name": "#%%\n",
     "is_executing": false
    }
   }
  },
  {
   "cell_type": "code",
   "execution_count": 18,
   "outputs": [],
   "source": [
    "pl.predict(X_test)\n",
    "y_hat = knn.predict(X_test)"
   ],
   "metadata": {
    "collapsed": false,
    "pycharm": {
     "name": "#%%\n",
     "is_executing": false
    }
   }
  },
  {
   "cell_type": "code",
   "execution_count": 19,
   "outputs": [],
   "source": [
    "from dump_util import dump_to_file\n",
    "\n",
    "output_dir = '/home/toyo/PycharmProjects/lab07/output/'\n",
    "output_filename = os.path.join(output_dir, 'knn_svd_output.csv')\n",
    "\n",
    "dump_to_file(indices, y_hat, output_filename)\n"
   ],
   "metadata": {
    "collapsed": false,
    "pycharm": {
     "name": "#%%\n",
     "is_executing": false
    }
   }
  },
  {
   "cell_type": "code",
   "execution_count": 19,
   "outputs": [],
   "source": [
    "\n"
   ],
   "metadata": {
    "collapsed": false,
    "pycharm": {
     "name": "#%%\n",
     "is_executing": false
    }
   }
  }
 ],
 "metadata": {
  "kernelspec": {
   "display_name": "Python 3",
   "language": "python",
   "name": "python3"
  },
  "language_info": {
   "codemirror_mode": {
    "name": "ipython",
    "version": 2
   },
   "file_extension": ".py",
   "mimetype": "text/x-python",
   "name": "python",
   "nbconvert_exporter": "python",
   "pygments_lexer": "ipython2",
   "version": "2.7.6"
  },
  "pycharm": {
   "stem_cell": {
    "cell_type": "raw",
    "source": [],
    "metadata": {
     "collapsed": false
    }
   }
  }
 },
 "nbformat": 4,
 "nbformat_minor": 0
}